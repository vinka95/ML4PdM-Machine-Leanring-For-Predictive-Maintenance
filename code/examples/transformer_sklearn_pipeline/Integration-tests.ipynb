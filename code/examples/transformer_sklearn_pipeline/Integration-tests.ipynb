{
 "cells": [
  {
   "cell_type": "code",
   "execution_count": 1,
   "source": [
    "from ml4pdm.data import Dataset, DatasetSummary\r\n",
    "from ml4pdm.parsing import DatasetParser\r\n",
    "from ml4pdm.evaluation import Evaluator\r\n",
    "from sklearn.pipeline import make_pipeline\r\n",
    "from ml4pdm.evaluation.metrics import loss_asymmetric, score_performance, loss_false_positive_rate, loss_false_negative_rate\r\n",
    "from sklearn.metrics import mean_absolute_error, mean_absolute_percentage_error, mean_squared_error\r\n",
    "from random import random\r\n",
    "from sklearn.ensemble import RandomForestRegressor\r\n",
    "from copy import deepcopy\r\n",
    "from ml4pdm.transformation import TimeSeriesImputer, UniToMultivariateWrapper, PytsTransformWrapper, PytsSupportedAlgorithm, DatasetToSklearn, EMDSignalWrapper, PywtWrapper, AttributeFilter, TSFreshWrapper, TSFreshFeatureCalculators"
   ],
   "outputs": [],
   "metadata": {}
  },
  {
   "cell_type": "code",
   "execution_count": 2,
   "source": [
    "train_dataset, test_dataset = DatasetParser.get_cmapss_data(test=True)"
   ],
   "outputs": [],
   "metadata": {}
  },
  {
   "cell_type": "code",
   "execution_count": 3,
   "source": [
    "prepared_training_dataset = train_dataset.generate_simple_cut_dataset(cut_repeats=5, min_length = 5, max_length=155)\r\n",
    "print(len(prepared_training_dataset.data))\r\n",
    "print(min(prepared_training_dataset.target))\r\n",
    "print(max(prepared_training_dataset.target))"
   ],
   "outputs": [
    {
     "output_type": "stream",
     "name": "stdout",
     "text": [
      "500\n",
      "5.0\n",
      "155.0\n"
     ]
    }
   ],
   "metadata": {}
  },
  {
   "cell_type": "code",
   "execution_count": 4,
   "source": [
    "pipeline = make_pipeline(AttributeFilter([0,1,2], 3), UniToMultivariateWrapper(make_pipeline(TimeSeriesImputer(), PytsTransformWrapper(PytsSupportedAlgorithm.BOSS)), n_jobs=15), DatasetToSklearn(), RandomForestRegressor(n_estimators=50, min_samples_leaf=4, n_jobs=15))"
   ],
   "outputs": [],
   "metadata": {}
  },
  {
   "cell_type": "code",
   "execution_count": 5,
   "source": [
    "evaluator = Evaluator(None, [pipeline], None, [loss_asymmetric, mean_squared_error, score_performance, mean_absolute_error,\r\n",
    "                                          mean_absolute_percentage_error, loss_false_positive_rate, loss_false_negative_rate])\r\n",
    "results = evaluator.evaluate_train_test_split(prepared_training_dataset, test_dataset)[0]\r\n",
    "for i in [2,4,5,6]:\r\n",
    "    results[i] *= 100\r\n",
    "print(\"S:\\t{:.2f}\\nMSE:\\t{:.2f}\\nA(%):\\t{:.2f}\\nMAE:\\t{:.2f}\\nMAPE:\\t{:.2f}\\nFPR(%):\\t{:.2f}\\nFNR(%):\\t{:.2f}\".format(*results))"
   ],
   "outputs": [
    {
     "output_type": "stream",
     "name": "stdout",
     "text": [
      "S:\t809.95\n",
      "MSE:\t441.67\n",
      "A(%):\t49.00\n",
      "MAE:\t16.68\n",
      "MAPE:\t37.34\n",
      "FPR(%):\t19.00\n",
      "FNR(%):\t32.00\n"
     ]
    }
   ],
   "metadata": {}
  },
  {
   "cell_type": "code",
   "execution_count": 6,
   "source": [
    "for i, pred in enumerate(evaluator.full_y_pred_per_pipeline[0]):\r\n",
    "    print(test_dataset.target[i], \"\\t\", pred)"
   ],
   "outputs": [
    {
     "output_type": "stream",
     "name": "stdout",
     "text": [
      "112.0 \t 138.39065462315463\n",
      "98.0 \t 126.71889105339108\n",
      "69.0 \t 60.120063364739835\n",
      "82.0 \t 80.68816527916528\n",
      "91.0 \t 90.20083982683984\n",
      "93.0 \t 89.51295404595405\n",
      "91.0 \t 82.03505411255412\n",
      "95.0 \t 76.06890648240649\n",
      "111.0 \t 116.15733405483407\n",
      "96.0 \t 73.73505411255414\n",
      "97.0 \t 103.77469053169054\n",
      "124.0 \t 77.5382597957598\n",
      "95.0 \t 65.35080613830614\n",
      "107.0 \t 123.72978671328674\n",
      "83.0 \t 118.60254667554668\n",
      "84.0 \t 103.26273154623154\n",
      "50.0 \t 68.07353896103896\n",
      "28.0 \t 66.96675036075035\n",
      "87.0 \t 94.48813691863693\n",
      "16.0 \t 17.37259928306987\n",
      "57.0 \t 86.61664291264293\n",
      "111.0 \t 126.84063292263296\n",
      "113.0 \t 93.80405422355423\n",
      "20.0 \t 46.740918470418464\n",
      "145.0 \t 132.64666433076727\n",
      "119.0 \t 111.93674153624156\n",
      "66.0 \t 77.90689610389612\n",
      "97.0 \t 85.470715416936\n",
      "90.0 \t 77.0402303807304\n",
      "115.0 \t 73.94682034632032\n",
      "8.0 \t 12.263473914973915\n",
      "48.0 \t 77.04600910200911\n",
      "106.0 \t 103.79041092241091\n",
      "7.0 \t 16.33075568875569\n",
      "11.0 \t 30.483611832611825\n",
      "19.0 \t 33.96931879231879\n",
      "21.0 \t 57.47448801783011\n",
      "50.0 \t 68.65967471417471\n",
      "142.0 \t 136.31205538905542\n",
      "28.0 \t 34.03108231242442\n",
      "18.0 \t 59.663306637806606\n",
      "10.0 \t 19.50697279844339\n",
      "59.0 \t 66.19451653901652\n",
      "109.0 \t 119.43584952792304\n",
      "114.0 \t 82.29173448773446\n",
      "47.0 \t 44.139450216450214\n",
      "135.0 \t 107.87526218226219\n",
      "92.0 \t 107.71253174603179\n",
      "21.0 \t 43.04800216450216\n",
      "79.0 \t 111.79051165501166\n",
      "114.0 \t 77.89158003108003\n",
      "29.0 \t 62.383026355996954\n",
      "26.0 \t 57.210962759462745\n",
      "97.0 \t 101.0273642958349\n",
      "137.0 \t 96.49523917748917\n",
      "15.0 \t 24.198152442328915\n",
      "103.0 \t 78.6019413919414\n",
      "37.0 \t 54.44356754356756\n",
      "114.0 \t 105.16853157953159\n",
      "100.0 \t 80.22741594516594\n",
      "21.0 \t 30.9851810966811\n",
      "54.0 \t 70.74543173493174\n",
      "72.0 \t 63.06078282828281\n",
      "28.0 \t 35.16019191919192\n",
      "128.0 \t 119.89907486957483\n",
      "14.0 \t 27.886582423424528\n",
      "77.0 \t 107.65396556221556\n",
      "8.0 \t 16.82070668220668\n",
      "121.0 \t 121.89832767232765\n",
      "94.0 \t 76.83350183150186\n",
      "118.0 \t 122.13901390276385\n",
      "50.0 \t 82.7910937950938\n",
      "131.0 \t 98.77922121669181\n",
      "126.0 \t 83.80285353535355\n",
      "113.0 \t 106.32115084915084\n",
      "10.0 \t 14.99856349206349\n",
      "34.0 \t 35.65588383838384\n",
      "107.0 \t 112.65689657564656\n",
      "63.0 \t 101.2891746864247\n",
      "90.0 \t 82.90423942723939\n",
      "8.0 \t 14.971675047175047\n",
      "9.0 \t 12.38336757686758\n",
      "137.0 \t 126.85123131770192\n",
      "58.0 \t 52.690914696414694\n",
      "118.0 \t 125.7074858474859\n",
      "89.0 \t 94.4108247863248\n",
      "116.0 \t 122.57491341991343\n",
      "115.0 \t 115.72612287712283\n",
      "136.0 \t 90.93906743256743\n",
      "28.0 \t 27.03049456099456\n",
      "38.0 \t 24.142821844821846\n",
      "20.0 \t 21.06145254745255\n",
      "85.0 \t 36.85861444111444\n",
      "55.0 \t 72.31997557997558\n",
      "128.0 \t 117.92843084693088\n",
      "137.0 \t 109.48881818181819\n",
      "82.0 \t 82.21723110223107\n",
      "59.0 \t 81.15674417249417\n",
      "117.0 \t 110.1912196969697\n",
      "20.0 \t 44.81692929292929\n"
     ]
    }
   ],
   "metadata": {}
  },
  {
   "cell_type": "code",
   "execution_count": 12,
   "source": [
    "from ml4pdm.parsing import PipelineConfigParser\r\n",
    "import os\r\n",
    "\r\n",
    "PIPELINE_CONFIGURATION_FILENAME = os.path.join('.','PipelineConfiguration.json') \r\n",
    "\r\n",
    "PipelineConfigParser.save_to_file(pipeline, path=PIPELINE_CONFIGURATION_FILENAME)\r\n",
    "\r\n",
    "loaded_pipeline = PipelineConfigParser.parse_from_file(path=PIPELINE_CONFIGURATION_FILENAME)\r\n",
    "\r\n",
    "evaluator = Evaluator(None, [loaded_pipeline], None, [loss_asymmetric, mean_squared_error, score_performance, mean_absolute_error,\r\n",
    "                                          mean_absolute_percentage_error, loss_false_positive_rate, loss_false_negative_rate])\r\n",
    "results = evaluator.evaluate_train_test_split(prepared_training_dataset, test_dataset)[0]\r\n",
    "for i in [2,4,5,6]:\r\n",
    "    results[i] *= 100\r\n",
    "print(\"S:\\t{:.2f}\\nMSE:\\t{:.2f}\\nA(%):\\t{:.2f}\\nMAE:\\t{:.2f}\\nMAPE:\\t{:.2f}\\nFPR(%):\\t{:.2f}\\nFNR(%):\\t{:.2f}\".format(*results))"
   ],
   "outputs": [
    {
     "output_type": "error",
     "ename": "FileNotFoundError",
     "evalue": "[Errno 2] No such file or directory: ''",
     "traceback": [
      "\u001b[1;31m---------------------------------------------------------------------------\u001b[0m",
      "\u001b[1;31mFileNotFoundError\u001b[0m                         Traceback (most recent call last)",
      "\u001b[1;32m~\\AppData\\Local\\Temp/ipykernel_13080/1064172659.py\u001b[0m in \u001b[0;36m<module>\u001b[1;34m\u001b[0m\n\u001b[0;32m      9\u001b[0m \u001b[0mEvaluatorConfigParser\u001b[0m\u001b[1;33m.\u001b[0m\u001b[0msave_to_file\u001b[0m\u001b[1;33m(\u001b[0m\u001b[0mevaluator_config\u001b[0m\u001b[1;33m,\u001b[0m \u001b[0mpath\u001b[0m\u001b[1;33m=\u001b[0m\u001b[0mEVALUATOR_CONFIGURATION_FILENAME\u001b[0m\u001b[1;33m)\u001b[0m\u001b[1;33m\u001b[0m\u001b[1;33m\u001b[0m\u001b[0m\n\u001b[0;32m     10\u001b[0m \u001b[1;33m\u001b[0m\u001b[0m\n\u001b[1;32m---> 11\u001b[1;33m \u001b[0mloaded_evaluator_config\u001b[0m \u001b[1;33m=\u001b[0m \u001b[0mEvaluatorConfigParser\u001b[0m\u001b[1;33m.\u001b[0m\u001b[0mparse_from_file\u001b[0m\u001b[1;33m(\u001b[0m\u001b[0mpath\u001b[0m\u001b[1;33m=\u001b[0m\u001b[0mEVALUATOR_CONFIGURATION_FILENAME\u001b[0m\u001b[1;33m)\u001b[0m\u001b[1;33m\u001b[0m\u001b[1;33m\u001b[0m\u001b[0m\n\u001b[0m\u001b[0;32m     12\u001b[0m \u001b[1;33m\u001b[0m\u001b[0m\n\u001b[0;32m     13\u001b[0m \u001b[0mloaded_evaluator\u001b[0m \u001b[1;33m=\u001b[0m \u001b[0mEvaluator\u001b[0m\u001b[1;33m(\u001b[0m\u001b[1;33m[\u001b[0m\u001b[1;32mNone\u001b[0m\u001b[1;33m]\u001b[0m\u001b[1;33m,\u001b[0m \u001b[0mloaded_evaluator_config\u001b[0m\u001b[1;33m.\u001b[0m\u001b[0m_pipelines\u001b[0m\u001b[1;33m,\u001b[0m \u001b[1;33m[\u001b[0m\u001b[1;32mNone\u001b[0m\u001b[1;33m]\u001b[0m\u001b[1;33m,\u001b[0m \u001b[0mloaded_evaluator_config\u001b[0m\u001b[1;33m.\u001b[0m\u001b[0m_evaluation_metrics\u001b[0m\u001b[1;33m)\u001b[0m\u001b[1;33m\u001b[0m\u001b[1;33m\u001b[0m\u001b[0m\n",
      "\u001b[1;32mp:\\Uni\\Master\\20-21 PG\\GitLab\\code\\ml4pdm\\parsing\\_evaluator_config_parser.py\u001b[0m in \u001b[0;36mparse_from_file\u001b[1;34m(path)\u001b[0m\n\u001b[0;32m     65\u001b[0m             \u001b[0mconfiguration\u001b[0m \u001b[1;33m=\u001b[0m \u001b[0mjsonpickle\u001b[0m\u001b[1;33m.\u001b[0m\u001b[0mdecode\u001b[0m\u001b[1;33m(\u001b[0m\u001b[0mfile\u001b[0m\u001b[1;33m.\u001b[0m\u001b[0mread\u001b[0m\u001b[1;33m(\u001b[0m\u001b[1;33m)\u001b[0m\u001b[1;33m)\u001b[0m\u001b[1;33m\u001b[0m\u001b[1;33m\u001b[0m\u001b[0m\n\u001b[0;32m     66\u001b[0m \u001b[1;33m\u001b[0m\u001b[0m\n\u001b[1;32m---> 67\u001b[1;33m         return Evaluator(datasets=EvaluatorConfigParser._get_datasets(configuration.dataset_paths),\n\u001b[0m\u001b[0;32m     68\u001b[0m                          \u001b[0mpipelines\u001b[0m\u001b[1;33m=\u001b[0m\u001b[0mEvaluatorConfigParser\u001b[0m\u001b[1;33m.\u001b[0m\u001b[0m_get_pipelines\u001b[0m\u001b[1;33m(\u001b[0m\u001b[0mconfiguration\u001b[0m\u001b[1;33m.\u001b[0m\u001b[0mpipeline_paths\u001b[0m\u001b[1;33m,\u001b[0m \u001b[0mconfiguration\u001b[0m\u001b[1;33m.\u001b[0m\u001b[0mpipelines\u001b[0m\u001b[1;33m)\u001b[0m\u001b[1;33m,\u001b[0m\u001b[1;33m\u001b[0m\u001b[1;33m\u001b[0m\u001b[0m\n\u001b[0;32m     69\u001b[0m                          \u001b[0mdataset_splitter\u001b[0m\u001b[1;33m=\u001b[0m\u001b[0mconfiguration\u001b[0m\u001b[1;33m.\u001b[0m\u001b[0mdataset_splitter\u001b[0m\u001b[1;33m,\u001b[0m\u001b[1;33m\u001b[0m\u001b[1;33m\u001b[0m\u001b[0m\n",
      "\u001b[1;32mp:\\Uni\\Master\\20-21 PG\\GitLab\\code\\ml4pdm\\parsing\\_evaluator_config_parser.py\u001b[0m in \u001b[0;36m_get_datasets\u001b[1;34m(paths)\u001b[0m\n\u001b[0;32m     25\u001b[0m         \u001b[1;32mif\u001b[0m \u001b[0mno_dataset_paths\u001b[0m \u001b[1;33m>\u001b[0m \u001b[1;36m0\u001b[0m\u001b[1;33m:\u001b[0m\u001b[1;33m\u001b[0m\u001b[1;33m\u001b[0m\u001b[0m\n\u001b[0;32m     26\u001b[0m             \u001b[1;32mfor\u001b[0m \u001b[0mi\u001b[0m \u001b[1;32min\u001b[0m \u001b[0mrange\u001b[0m\u001b[1;33m(\u001b[0m\u001b[0mno_dataset_paths\u001b[0m\u001b[1;33m)\u001b[0m\u001b[1;33m:\u001b[0m\u001b[1;33m\u001b[0m\u001b[1;33m\u001b[0m\u001b[0m\n\u001b[1;32m---> 27\u001b[1;33m                 \u001b[0mdatasets\u001b[0m\u001b[1;33m.\u001b[0m\u001b[0mappend\u001b[0m\u001b[1;33m(\u001b[0m\u001b[0mDatasetParser\u001b[0m\u001b[1;33m.\u001b[0m\u001b[0mparse_from_file\u001b[0m\u001b[1;33m(\u001b[0m\u001b[0mpaths\u001b[0m\u001b[1;33m[\u001b[0m\u001b[0mi\u001b[0m\u001b[1;33m]\u001b[0m\u001b[1;33m)\u001b[0m\u001b[1;33m)\u001b[0m\u001b[1;33m\u001b[0m\u001b[1;33m\u001b[0m\u001b[0m\n\u001b[0m\u001b[0;32m     28\u001b[0m \u001b[1;33m\u001b[0m\u001b[0m\n\u001b[0;32m     29\u001b[0m         \u001b[1;32mreturn\u001b[0m \u001b[0mdatasets\u001b[0m\u001b[1;33m\u001b[0m\u001b[1;33m\u001b[0m\u001b[0m\n",
      "\u001b[1;32mp:\\Uni\\Master\\20-21 PG\\GitLab\\code\\ml4pdm\\parsing\\_dataset_parser.py\u001b[0m in \u001b[0;36mparse_from_file\u001b[1;34m(path)\u001b[0m\n\u001b[0;32m    234\u001b[0m         \u001b[0mfp\u001b[0m \u001b[1;33m=\u001b[0m \u001b[0mpath\u001b[0m\u001b[1;33m\u001b[0m\u001b[1;33m\u001b[0m\u001b[0m\n\u001b[0;32m    235\u001b[0m         \u001b[1;31m# open file\u001b[0m\u001b[1;33m\u001b[0m\u001b[1;33m\u001b[0m\u001b[1;33m\u001b[0m\u001b[0m\n\u001b[1;32m--> 236\u001b[1;33m         \u001b[0mf\u001b[0m \u001b[1;33m=\u001b[0m \u001b[0mopen\u001b[0m\u001b[1;33m(\u001b[0m\u001b[0mfp\u001b[0m\u001b[1;33m,\u001b[0m \u001b[1;34m\"r\"\u001b[0m\u001b[1;33m)\u001b[0m\u001b[1;33m\u001b[0m\u001b[1;33m\u001b[0m\u001b[0m\n\u001b[0m\u001b[0;32m    237\u001b[0m         \u001b[1;31m# stores current stage of parsing\u001b[0m\u001b[1;33m\u001b[0m\u001b[1;33m\u001b[0m\u001b[1;33m\u001b[0m\u001b[0m\n\u001b[0;32m    238\u001b[0m         \u001b[0mcurrent\u001b[0m \u001b[1;33m=\u001b[0m \u001b[0mDESCRIPTION\u001b[0m\u001b[1;33m\u001b[0m\u001b[1;33m\u001b[0m\u001b[0m\n",
      "\u001b[1;31mFileNotFoundError\u001b[0m: [Errno 2] No such file or directory: ''"
     ]
    }
   ],
   "metadata": {}
  }
 ],
 "metadata": {
  "kernelspec": {
   "name": "python3",
   "display_name": "Python 3.8.10 64-bit ('ml4pdm': conda)"
  },
  "language_info": {
   "codemirror_mode": {
    "name": "ipython",
    "version": 3
   },
   "file_extension": ".py",
   "mimetype": "text/x-python",
   "name": "python",
   "nbconvert_exporter": "python",
   "pygments_lexer": "ipython3",
   "version": "3.8.10"
  },
  "interpreter": {
   "hash": "d904a15644e664460d30768d09e7a8c3e350a7c78c11016b21040a23274c16a8"
  }
 },
 "nbformat": 4,
 "nbformat_minor": 5
}