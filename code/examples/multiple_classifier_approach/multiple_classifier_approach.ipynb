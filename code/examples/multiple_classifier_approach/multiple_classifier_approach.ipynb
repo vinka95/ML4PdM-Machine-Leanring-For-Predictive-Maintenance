{
 "cells": [
  {
   "cell_type": "markdown",
   "source": [
    "# Multiple Classifier Approach\r\n",
    "\r\n",
    "This Jupyter notebook provides a full example of the Multiple Classifier Approach.\r\n",
    "\r\n",
    "## Imports and setup:\r\n",
    "\r\n",
    "The following code cell deals with all the imports and initial setup. The seed of the numpy random number generator is fixed to create reproducible results and the ray-tune framework is initialized."
   ],
   "metadata": {}
  },
  {
   "cell_type": "code",
   "execution_count": 1,
   "source": [
    "from ml4pdm.evaluation.metrics import loss_asymmetric, score_performance, loss_false_positive_rate, loss_false_negative_rate\r\n",
    "from ml4pdm.evaluation import Evaluator\r\n",
    "from ml4pdm.parsing import DatasetParser\r\n",
    "from ml4pdm.prediction import MultipleClassifierApproach\r\n",
    "from ml4pdm.transformation import AttributeFilter, SklearnWrapper\r\n",
    "from sklearn.metrics import mean_absolute_error, mean_absolute_percentage_error, mean_squared_error\r\n",
    "from sklearn.svm import SVC\r\n",
    "from sklearn.pipeline import make_pipeline\r\n",
    "from sklearn.preprocessing import MinMaxScaler\r\n",
    "import numpy as np\r\n",
    "import ray\r\n",
    "from ray import tune\r\n",
    "from ray.tune.suggest.bohb import TuneBOHB\r\n",
    "\r\n",
    "np.random.seed(2)\r\n",
    "ray.init(include_dashboard=False)"
   ],
   "outputs": [
    {
     "output_type": "execute_result",
     "data": {
      "text/plain": [
       "{'node_ip_address': '192.168.0.18',\n",
       " 'raylet_ip_address': '192.168.0.18',\n",
       " 'redis_address': '192.168.0.18:6379',\n",
       " 'object_store_address': 'tcp://127.0.0.1:51249',\n",
       " 'raylet_socket_name': 'tcp://127.0.0.1:56580',\n",
       " 'webui_url': None,\n",
       " 'session_dir': 'C:\\\\Users\\\\Paul\\\\AppData\\\\Local\\\\Temp\\\\ray\\\\session_2021-09-20_12-04-10_575119_7520',\n",
       " 'metrics_export_port': 61573,\n",
       " 'node_id': 'e28552be6a2cc938aa48d694eebb7f132f5757b0b717da4f61c60c36'}"
      ]
     },
     "metadata": {},
     "execution_count": 1
    }
   ],
   "metadata": {}
  },
  {
   "cell_type": "markdown",
   "source": [
    "## Prepare dataset:\r\n",
    "\r\n",
    "The base for the datasets is the CMAPSS FD001. The train and test datasets are prepared by removing non-changing as well as settings features. After that a min max scaling is also applied per feature."
   ],
   "metadata": {}
  },
  {
   "cell_type": "code",
   "execution_count": 2,
   "source": [
    "train_dataset, test_dataset = DatasetParser.get_cmapss_data(test = True)\r\n",
    "train_dataset = AttributeFilter.remove_features(train_dataset, [1, 2, 3, 4, 8, 13, 19, 22])\r\n",
    "test_dataset = AttributeFilter.remove_features(test_dataset, [1, 2, 3, 4, 8, 13, 19, 22])\r\n",
    "scaling = SklearnWrapper(MinMaxScaler(), SklearnWrapper.extract_timeseries_concatenated, SklearnWrapper.rebuild_timeseries_concatenated)\r\n",
    "train_dataset = scaling.fit_transform(train_dataset)\r\n",
    "test_dataset = scaling.transform(test_dataset)"
   ],
   "outputs": [],
   "metadata": {}
  },
  {
   "cell_type": "markdown",
   "source": [
    "## Hyperparameter optimization:\r\n",
    "\r\n",
    "The following code cell performs hyperparameter optimization using the ray-tune framework. The parameters \"C\" and \"degree\" are optimized using the asymmetric loss function."
   ],
   "metadata": {}
  },
  {
   "cell_type": "code",
   "execution_count": null,
   "source": [
    "def pipeline_training(config, data=None):\r\n",
    "    mca = MultipleClassifierApproach(range(3,151,3), SVC, **config)\r\n",
    "    mca.fit(data[\"train_dataset\"])\r\n",
    "    preds = mca.predict(data[\"test_dataset\"])\r\n",
    "    tune.report(loss=loss_asymmetric(data[\"test_dataset\"].target, preds), mse=mean_squared_error(data[\"test_dataset\"].target, preds))\r\n",
    "\r\n",
    "\r\n",
    "data_dict = {\r\n",
    "    \"train_dataset\": train_dataset,\r\n",
    "    \"test_dataset\": test_dataset,\r\n",
    "}\r\n",
    "\r\n",
    "algo = TuneBOHB(seed=2, max_concurrent=6)\r\n",
    "\r\n",
    "analysis = tune.run(\r\n",
    "    tune.with_parameters(pipeline_training, data=data_dict),\r\n",
    "    search_alg=algo,\r\n",
    "    metric=\"loss\",\r\n",
    "    mode=\"min\",\r\n",
    "    num_samples=-1,\r\n",
    "    time_budget_s=int(2*60*60),\r\n",
    "    resources_per_trial={\"cpu\": 1},\r\n",
    "    config={\r\n",
    "        \"C\": tune.uniform(0.01, 10),\r\n",
    "        \"kernel\": \"poly\",\r\n",
    "        \"degree\": tune.choice(range(2,7,1)),\r\n",
    "    }\r\n",
    ")\r\n",
    "\r\n",
    "best_config = analysis.get_best_config(metric=\"loss\", mode=\"min\")\r\n",
    "print(\"Best config: \", best_config)\r\n"
   ],
   "outputs": [],
   "metadata": {}
  },
  {
   "cell_type": "markdown",
   "source": [
    "## Evaluate Approach:\r\n",
    "\r\n",
    "The best config that was obtained in the above hyperparameter optimization is evaluated using various metrics. This allows for comparing it with other approaches."
   ],
   "metadata": {}
  },
  {
   "cell_type": "code",
   "execution_count": 3,
   "source": [
    "best_config = {'C': 6.407663184896999, 'kernel': 'poly'}\r\n",
    "\r\n",
    "train_dataset, test_dataset = DatasetParser.get_cmapss_data(test = True)\r\n",
    "\r\n",
    "mca = make_pipeline(SklearnWrapper(MinMaxScaler(), SklearnWrapper.extract_timeseries_concatenated, SklearnWrapper.rebuild_timeseries_concatenated), \r\n",
    "                    MultipleClassifierApproach(range(15,151,15), SVC, **best_config))\r\n",
    "\r\n",
    "evaluator = Evaluator(None, [mca], None, [loss_asymmetric, mean_squared_error, score_performance, mean_absolute_error,\r\n",
    "                                          mean_absolute_percentage_error, loss_false_positive_rate, loss_false_negative_rate])\r\n",
    "\r\n",
    "results = evaluator.evaluate_train_test_split(train_dataset, test_dataset)[0]\r\n",
    "for i in [2,4,5,6]:\r\n",
    "    results[i] *= 100\r\n",
    "print(\"S:\\t{:.2f}\\nMSE:\\t{:.2f}\\nA(%):\\t{:.2f}\\nMAE:\\t{:.2f}\\nMAPE:\\t{:.2f}\\nFPR(%):\\t{:.2f}\\nFNR(%):\\t{:.2f}\".format(*results))"
   ],
   "outputs": [
    {
     "output_type": "stream",
     "name": "stdout",
     "text": [
      "S:\t1527.73\n",
      "MSE:\t510.64\n",
      "A(%):\t53.00\n",
      "MAE:\t16.72\n",
      "MAPE:\t28.52\n",
      "FPR(%):\t25.00\n",
      "FNR(%):\t22.00\n"
     ]
    }
   ],
   "metadata": {}
  }
 ],
 "metadata": {
  "orig_nbformat": 4,
  "language_info": {
   "name": "python",
   "version": "3.8.10",
   "mimetype": "text/x-python",
   "codemirror_mode": {
    "name": "ipython",
    "version": 3
   },
   "pygments_lexer": "ipython3",
   "nbconvert_exporter": "python",
   "file_extension": ".py"
  },
  "kernelspec": {
   "name": "python3",
   "display_name": "Python 3.8.10 64-bit ('ml4pdm': conda)"
  },
  "interpreter": {
   "hash": "d904a15644e664460d30768d09e7a8c3e350a7c78c11016b21040a23274c16a8"
  }
 },
 "nbformat": 4,
 "nbformat_minor": 2
}